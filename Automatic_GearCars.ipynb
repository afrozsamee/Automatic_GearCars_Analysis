{
  "nbformat": 4,
  "nbformat_minor": 0,
  "metadata": {
    "kernelspec": {
      "display_name": "Python 3",
      "language": "python",
      "name": "python3"
    },
    "language_info": {
      "codemirror_mode": {
        "name": "ipython",
        "version": 3
      },
      "file_extension": ".py",
      "mimetype": "text/x-python",
      "name": "python",
      "nbconvert_exporter": "python",
      "pygments_lexer": "ipython3",
      "version": "3.6.5"
    },
    "colab": {
      "name": "Automatic_GearCars.ipynb",
      "version": "0.3.2",
      "provenance": []
    }
  },
  "cells": [
    {
      "cell_type": "markdown",
      "metadata": {
        "id": "Ak8J3Eu5MN7Z",
        "colab_type": "text"
      },
      "source": [
        "K Nearest Neighbours (KNN) - classification - categorical"
      ]
    },
    {
      "cell_type": "code",
      "metadata": {
        "id": "6KS-W9SRMN8H",
        "colab_type": "code",
        "colab": {}
      },
      "source": [
        "#import numpy,pandas,matplotlib,seaborn\n",
        "import numpy as np\n",
        "import pandas as pd\n",
        "import matplotlib.pyplot as plt\n",
        "import seaborn as sns\n",
        "%matplotlib inline"
      ],
      "execution_count": 0,
      "outputs": []
    },
    {
      "cell_type": "markdown",
      "metadata": {
        "id": "4_cH5oQ4MN8W",
        "colab_type": "text"
      },
      "source": [
        "**Loading the dataset of cars in csv file**\n",
        "\n",
        "we have to predict whether the car is automatic gear or manual gear.In column which is to predicted **am** has 0 and 1.0 indicates manual gear and 1 indicates automatic gear."
      ]
    },
    {
      "cell_type": "code",
      "metadata": {
        "id": "okCgTneHMN8Y",
        "colab_type": "code",
        "colab": {}
      },
      "source": [
        "cars = pd.read_csv('cars.csv')"
      ],
      "execution_count": 0,
      "outputs": []
    },
    {
      "cell_type": "code",
      "metadata": {
        "id": "ka_3okK_MN8f",
        "colab_type": "code",
        "colab": {},
        "outputId": "9809f302-1660-4d60-d618-d0517c029556"
      },
      "source": [
        "cars.head()"
      ],
      "execution_count": 0,
      "outputs": [
        {
          "output_type": "execute_result",
          "data": {
            "text/html": [
              "<div>\n",
              "<style scoped>\n",
              "    .dataframe tbody tr th:only-of-type {\n",
              "        vertical-align: middle;\n",
              "    }\n",
              "\n",
              "    .dataframe tbody tr th {\n",
              "        vertical-align: top;\n",
              "    }\n",
              "\n",
              "    .dataframe thead th {\n",
              "        text-align: right;\n",
              "    }\n",
              "</style>\n",
              "<table border=\"1\" class=\"dataframe\">\n",
              "  <thead>\n",
              "    <tr style=\"text-align: right;\">\n",
              "      <th></th>\n",
              "      <th>model</th>\n",
              "      <th>mpg</th>\n",
              "      <th>cyl</th>\n",
              "      <th>disp</th>\n",
              "      <th>hp</th>\n",
              "      <th>drat</th>\n",
              "      <th>wt</th>\n",
              "      <th>qsec</th>\n",
              "      <th>vs</th>\n",
              "      <th>am</th>\n",
              "      <th>gear</th>\n",
              "      <th>carb</th>\n",
              "    </tr>\n",
              "  </thead>\n",
              "  <tbody>\n",
              "    <tr>\n",
              "      <th>0</th>\n",
              "      <td>Mazda RX4</td>\n",
              "      <td>21.0</td>\n",
              "      <td>6</td>\n",
              "      <td>160.0</td>\n",
              "      <td>110</td>\n",
              "      <td>3.90</td>\n",
              "      <td>2.620</td>\n",
              "      <td>16.46</td>\n",
              "      <td>0</td>\n",
              "      <td>1</td>\n",
              "      <td>4</td>\n",
              "      <td>4</td>\n",
              "    </tr>\n",
              "    <tr>\n",
              "      <th>1</th>\n",
              "      <td>Mazda RX4 Wag</td>\n",
              "      <td>21.0</td>\n",
              "      <td>6</td>\n",
              "      <td>160.0</td>\n",
              "      <td>110</td>\n",
              "      <td>3.90</td>\n",
              "      <td>2.875</td>\n",
              "      <td>17.02</td>\n",
              "      <td>0</td>\n",
              "      <td>1</td>\n",
              "      <td>4</td>\n",
              "      <td>4</td>\n",
              "    </tr>\n",
              "    <tr>\n",
              "      <th>2</th>\n",
              "      <td>Datsun 710</td>\n",
              "      <td>22.8</td>\n",
              "      <td>4</td>\n",
              "      <td>108.0</td>\n",
              "      <td>93</td>\n",
              "      <td>3.85</td>\n",
              "      <td>2.320</td>\n",
              "      <td>18.61</td>\n",
              "      <td>1</td>\n",
              "      <td>1</td>\n",
              "      <td>4</td>\n",
              "      <td>1</td>\n",
              "    </tr>\n",
              "    <tr>\n",
              "      <th>3</th>\n",
              "      <td>Hornet 4 Drive</td>\n",
              "      <td>21.4</td>\n",
              "      <td>6</td>\n",
              "      <td>258.0</td>\n",
              "      <td>110</td>\n",
              "      <td>3.08</td>\n",
              "      <td>3.215</td>\n",
              "      <td>19.44</td>\n",
              "      <td>1</td>\n",
              "      <td>0</td>\n",
              "      <td>3</td>\n",
              "      <td>1</td>\n",
              "    </tr>\n",
              "    <tr>\n",
              "      <th>4</th>\n",
              "      <td>Hornet Sportabout</td>\n",
              "      <td>18.7</td>\n",
              "      <td>8</td>\n",
              "      <td>360.0</td>\n",
              "      <td>175</td>\n",
              "      <td>3.15</td>\n",
              "      <td>3.440</td>\n",
              "      <td>17.02</td>\n",
              "      <td>0</td>\n",
              "      <td>0</td>\n",
              "      <td>3</td>\n",
              "      <td>2</td>\n",
              "    </tr>\n",
              "  </tbody>\n",
              "</table>\n",
              "</div>"
            ],
            "text/plain": [
              "               model   mpg  cyl   disp   hp  drat     wt   qsec  vs  am  gear  \\\n",
              "0          Mazda RX4  21.0    6  160.0  110  3.90  2.620  16.46   0   1     4   \n",
              "1      Mazda RX4 Wag  21.0    6  160.0  110  3.90  2.875  17.02   0   1     4   \n",
              "2         Datsun 710  22.8    4  108.0   93  3.85  2.320  18.61   1   1     4   \n",
              "3     Hornet 4 Drive  21.4    6  258.0  110  3.08  3.215  19.44   1   0     3   \n",
              "4  Hornet Sportabout  18.7    8  360.0  175  3.15  3.440  17.02   0   0     3   \n",
              "\n",
              "   carb  \n",
              "0     4  \n",
              "1     4  \n",
              "2     1  \n",
              "3     1  \n",
              "4     2  "
            ]
          },
          "metadata": {
            "tags": []
          },
          "execution_count": 3
        }
      ]
    },
    {
      "cell_type": "code",
      "metadata": {
        "id": "AVBICEbzMN8v",
        "colab_type": "code",
        "colab": {},
        "outputId": "0f245426-5de4-46f4-d790-2622e4648b96"
      },
      "source": [
        "#informations of data given\n",
        "cars.info()"
      ],
      "execution_count": 0,
      "outputs": [
        {
          "output_type": "stream",
          "text": [
            "<class 'pandas.core.frame.DataFrame'>\n",
            "RangeIndex: 32 entries, 0 to 31\n",
            "Data columns (total 12 columns):\n",
            "model    32 non-null object\n",
            "mpg      32 non-null float64\n",
            "cyl      32 non-null int64\n",
            "disp     32 non-null float64\n",
            "hp       32 non-null int64\n",
            "drat     32 non-null float64\n",
            "wt       32 non-null float64\n",
            "qsec     32 non-null float64\n",
            "vs       32 non-null int64\n",
            "am       32 non-null int64\n",
            "gear     32 non-null int64\n",
            "carb     32 non-null int64\n",
            "dtypes: float64(5), int64(6), object(1)\n",
            "memory usage: 3.1+ KB\n"
          ],
          "name": "stdout"
        }
      ]
    },
    {
      "cell_type": "code",
      "metadata": {
        "id": "xSEXGo5XMN81",
        "colab_type": "code",
        "colab": {},
        "outputId": "29172a5a-16ad-4580-f08d-b8d07c2a5797"
      },
      "source": [
        "cars.shape"
      ],
      "execution_count": 0,
      "outputs": [
        {
          "output_type": "execute_result",
          "data": {
            "text/plain": [
              "(32, 12)"
            ]
          },
          "metadata": {
            "tags": []
          },
          "execution_count": 5
        }
      ]
    },
    {
      "cell_type": "code",
      "metadata": {
        "id": "ZtYYS5Q8MN9z",
        "colab_type": "code",
        "colab": {},
        "outputId": "252ef71a-416a-456e-c9fa-4feab052ec32"
      },
      "source": [
        "#checks for null values\n",
        "cars.isnull().sum()"
      ],
      "execution_count": 0,
      "outputs": [
        {
          "output_type": "execute_result",
          "data": {
            "text/plain": [
              "model    0\n",
              "mpg      0\n",
              "cyl      0\n",
              "disp     0\n",
              "hp       0\n",
              "drat     0\n",
              "wt       0\n",
              "qsec     0\n",
              "vs       0\n",
              "am       0\n",
              "gear     0\n",
              "carb     0\n",
              "dtype: int64"
            ]
          },
          "metadata": {
            "tags": []
          },
          "execution_count": 6
        }
      ]
    },
    {
      "cell_type": "code",
      "metadata": {
        "id": "e14aVA0gMN95",
        "colab_type": "code",
        "colab": {},
        "outputId": "1e416694-a76b-4b84-b211-3166562d1aaf"
      },
      "source": [
        "#the count of manual gear is more then automatic\n",
        "sns.countplot(x = 'am',data=cars)"
      ],
      "execution_count": 0,
      "outputs": [
        {
          "output_type": "execute_result",
          "data": {
            "text/plain": [
              "<matplotlib.axes._subplots.AxesSubplot at 0x98611d0>"
            ]
          },
          "metadata": {
            "tags": []
          },
          "execution_count": 7
        },
        {
          "output_type": "display_data",
          "data": {
            "image/png": "[encoded data removed]",
            "text/plain": [
              "<Figure size 432x288 with 1 Axes>"
            ]
          },
          "metadata": {
            "tags": []
          }
        }
      ]
    },
    {
      "cell_type": "code",
      "metadata": {
        "id": "MvjoN051MN-A",
        "colab_type": "code",
        "colab": {},
        "outputId": "671bad45-a095-4233-e193-65d789fc3e82"
      },
      "source": [
        "sns.countplot(cars.am,hue = cars.gear)"
      ],
      "execution_count": 0,
      "outputs": [
        {
          "output_type": "execute_result",
          "data": {
            "text/plain": [
              "<matplotlib.axes._subplots.AxesSubplot at 0x9a22080>"
            ]
          },
          "metadata": {
            "tags": []
          },
          "execution_count": 8
        },
        {
          "output_type": "display_data",
          "data": {
            "image/png": "[encoded data removed]",
            "text/plain": [
              "<Figure size 432x288 with 1 Axes>"
            ]
          },
          "metadata": {
            "tags": []
          }
        }
      ]
    },
    {
      "cell_type": "code",
      "metadata": {
        "id": "DJ90vWhbMN-P",
        "colab_type": "code",
        "colab": {}
      },
      "source": [
        "x = cars.iloc[:,[1,2,4,6,10]]"
      ],
      "execution_count": 0,
      "outputs": []
    },
    {
      "cell_type": "code",
      "metadata": {
        "id": "tJ5BgAfRMN-U",
        "colab_type": "code",
        "colab": {},
        "outputId": "2a079a6b-91d9-4a0b-d9f0-9448a5d5c9c3"
      },
      "source": [
        "x.head()"
      ],
      "execution_count": 0,
      "outputs": [
        {
          "output_type": "execute_result",
          "data": {
            "text/html": [
              "<div>\n",
              "<style scoped>\n",
              "    .dataframe tbody tr th:only-of-type {\n",
              "        vertical-align: middle;\n",
              "    }\n",
              "\n",
              "    .dataframe tbody tr th {\n",
              "        vertical-align: top;\n",
              "    }\n",
              "\n",
              "    .dataframe thead th {\n",
              "        text-align: right;\n",
              "    }\n",
              "</style>\n",
              "<table border=\"1\" class=\"dataframe\">\n",
              "  <thead>\n",
              "    <tr style=\"text-align: right;\">\n",
              "      <th></th>\n",
              "      <th>mpg</th>\n",
              "      <th>cyl</th>\n",
              "      <th>hp</th>\n",
              "      <th>wt</th>\n",
              "      <th>gear</th>\n",
              "    </tr>\n",
              "  </thead>\n",
              "  <tbody>\n",
              "    <tr>\n",
              "      <th>0</th>\n",
              "      <td>21.0</td>\n",
              "      <td>6</td>\n",
              "      <td>110</td>\n",
              "      <td>2.620</td>\n",
              "      <td>4</td>\n",
              "    </tr>\n",
              "    <tr>\n",
              "      <th>1</th>\n",
              "      <td>21.0</td>\n",
              "      <td>6</td>\n",
              "      <td>110</td>\n",
              "      <td>2.875</td>\n",
              "      <td>4</td>\n",
              "    </tr>\n",
              "    <tr>\n",
              "      <th>2</th>\n",
              "      <td>22.8</td>\n",
              "      <td>4</td>\n",
              "      <td>93</td>\n",
              "      <td>2.320</td>\n",
              "      <td>4</td>\n",
              "    </tr>\n",
              "    <tr>\n",
              "      <th>3</th>\n",
              "      <td>21.4</td>\n",
              "      <td>6</td>\n",
              "      <td>110</td>\n",
              "      <td>3.215</td>\n",
              "      <td>3</td>\n",
              "    </tr>\n",
              "    <tr>\n",
              "      <th>4</th>\n",
              "      <td>18.7</td>\n",
              "      <td>8</td>\n",
              "      <td>175</td>\n",
              "      <td>3.440</td>\n",
              "      <td>3</td>\n",
              "    </tr>\n",
              "  </tbody>\n",
              "</table>\n",
              "</div>"
            ],
            "text/plain": [
              "    mpg  cyl   hp     wt  gear\n",
              "0  21.0    6  110  2.620     4\n",
              "1  21.0    6  110  2.875     4\n",
              "2  22.8    4   93  2.320     4\n",
              "3  21.4    6  110  3.215     3\n",
              "4  18.7    8  175  3.440     3"
            ]
          },
          "metadata": {
            "tags": []
          },
          "execution_count": 74
        }
      ]
    },
    {
      "cell_type": "code",
      "metadata": {
        "id": "AW4XSO7xMN-7",
        "colab_type": "code",
        "colab": {}
      },
      "source": [
        "y= cars.am"
      ],
      "execution_count": 0,
      "outputs": []
    },
    {
      "cell_type": "markdown",
      "metadata": {
        "id": "NIPXvcI6MN_A",
        "colab_type": "text"
      },
      "source": [
        "**Splitting the data in training and testing**"
      ]
    },
    {
      "cell_type": "code",
      "metadata": {
        "id": "yOFcltkiMN_B",
        "colab_type": "code",
        "colab": {}
      },
      "source": [
        "from sklearn.model_selection import train_test_split"
      ],
      "execution_count": 0,
      "outputs": []
    },
    {
      "cell_type": "code",
      "metadata": {
        "id": "AVBS9TXBMN_G",
        "colab_type": "code",
        "colab": {}
      },
      "source": [
        "x_train,x_test,y_train,y_test = train_test_split(x,y,test_size=0.20,random_state=5)"
      ],
      "execution_count": 0,
      "outputs": []
    },
    {
      "cell_type": "markdown",
      "metadata": {
        "id": "B4VU6fL_MN_K",
        "colab_type": "text"
      },
      "source": [
        "**Applying Algorithm KNeighborsClassifier**\n",
        "\n",
        "Classifier is applied because the predictions is categorical"
      ]
    },
    {
      "cell_type": "code",
      "metadata": {
        "id": "87g1YDudMN_L",
        "colab_type": "code",
        "colab": {}
      },
      "source": [
        "from sklearn.neighbors import KNeighborsClassifier"
      ],
      "execution_count": 0,
      "outputs": []
    },
    {
      "cell_type": "code",
      "metadata": {
        "id": "PKkh7fWoMN_Q",
        "colab_type": "code",
        "colab": {}
      },
      "source": [
        "model = KNeighborsClassifier(n_neighbors=1,metric='euclidean')"
      ],
      "execution_count": 0,
      "outputs": []
    },
    {
      "cell_type": "code",
      "metadata": {
        "id": "pYo9vgLzMN_U",
        "colab_type": "code",
        "colab": {},
        "outputId": "f3768250-bf28-404f-97df-3760aa165d63"
      },
      "source": [
        "model.fit(x_train,y_train)"
      ],
      "execution_count": 0,
      "outputs": [
        {
          "output_type": "execute_result",
          "data": {
            "text/plain": [
              "KNeighborsClassifier(algorithm='auto', leaf_size=30, metric='euclidean',\n",
              "           metric_params=None, n_jobs=1, n_neighbors=1, p=2,\n",
              "           weights='uniform')"
            ]
          },
          "metadata": {
            "tags": []
          },
          "execution_count": 80
        }
      ]
    },
    {
      "cell_type": "code",
      "metadata": {
        "id": "r_mhg09NMN_Z",
        "colab_type": "code",
        "colab": {}
      },
      "source": [
        "predict = model.predict(x_test)"
      ],
      "execution_count": 0,
      "outputs": []
    },
    {
      "cell_type": "code",
      "metadata": {
        "id": "cuAMlGj3MN_e",
        "colab_type": "code",
        "colab": {}
      },
      "source": [
        "from sklearn.metrics import accuracy_score,confusion_matrix"
      ],
      "execution_count": 0,
      "outputs": []
    },
    {
      "cell_type": "code",
      "metadata": {
        "id": "14Ywg0muMN_o",
        "colab_type": "code",
        "colab": {},
        "outputId": "0214d1df-454a-40c2-dd62-11d685b7bf37"
      },
      "source": [
        "accuracy_score(y_test,predict)"
      ],
      "execution_count": 0,
      "outputs": [
        {
          "output_type": "execute_result",
          "data": {
            "text/plain": [
              "0.8571428571428571"
            ]
          },
          "metadata": {
            "tags": []
          },
          "execution_count": 83
        }
      ]
    },
    {
      "cell_type": "markdown",
      "metadata": {
        "id": "pRnNo5DLMN_v",
        "colab_type": "text"
      },
      "source": [
        "Accuracy of 85.71%"
      ]
    },
    {
      "cell_type": "code",
      "metadata": {
        "id": "Pj7dzy3QMN_z",
        "colab_type": "code",
        "colab": {},
        "outputId": "84a8505d-1786-4300-aa51-59ada1e73534"
      },
      "source": [
        "confusion_matrix(y_test,predict)"
      ],
      "execution_count": 0,
      "outputs": [
        {
          "output_type": "execute_result",
          "data": {
            "text/plain": [
              "array([[4, 1],\n",
              "       [0, 2]], dtype=int64)"
            ]
          },
          "metadata": {
            "tags": []
          },
          "execution_count": 70
        }
      ]
    },
    {
      "cell_type": "code",
      "metadata": {
        "id": "m4YxE5uHMN_5",
        "colab_type": "code",
        "colab": {},
        "outputId": "440ec82b-234d-4dfb-ec5f-428c3d18f1fe"
      },
      "source": [
        "sns.countplot(cars.am,hue = cars.carb)"
      ],
      "execution_count": 0,
      "outputs": [
        {
          "output_type": "execute_result",
          "data": {
            "text/plain": [
              "<matplotlib.axes._subplots.AxesSubplot at 0xb0816d8>"
            ]
          },
          "metadata": {
            "tags": []
          },
          "execution_count": 71
        },
        {
          "output_type": "display_data",
          "data": {
            "image/png": "[encoded data removed]",
            "text/plain": [
              "<Figure size 432x288 with 1 Axes>"
            ]
          },
          "metadata": {
            "tags": []
          }
        }
      ]
    },
    {
      "cell_type": "code",
      "metadata": {
        "id": "E756KwL7MN_9",
        "colab_type": "code",
        "colab": {},
        "outputId": "e78e52ed-d438-4983-9c81-2cf9b3a6fb1e"
      },
      "source": [
        "sns.countplot(cars.am,hue = cars.cyl)"
      ],
      "execution_count": 0,
      "outputs": [
        {
          "output_type": "execute_result",
          "data": {
            "text/plain": [
              "<matplotlib.axes._subplots.AxesSubplot at 0xb065780>"
            ]
          },
          "metadata": {
            "tags": []
          },
          "execution_count": 72
        },
        {
          "output_type": "display_data",
          "data": {
            "image/png": "[encoded data removed]",
            "text/plain": [
              "<Figure size 432x288 with 1 Axes>"
            ]
          },
          "metadata": {
            "tags": []
          }
        }
      ]
    }
  ]
}